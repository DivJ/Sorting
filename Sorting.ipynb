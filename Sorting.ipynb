{
 "cells": [
  {
   "cell_type": "code",
   "execution_count": 51,
   "metadata": {},
   "outputs": [],
   "source": [
    "import timeit\n",
    "def SelectionSort(arr):\n",
    "    start_time = timeit.default_timer()\n",
    "    for i in range(len(arr)):\n",
    "        index=arr[i:].index(min(arr[i:]))\n",
    "        arr[i],arr[i+index]=arr[i+index],arr[i]\n",
    "        print(\"After %d iteration \"%(i+1),arr)\n",
    "    print(\"EXECUTION TIME:\",timeit.default_timer()-start_time)\n",
    "\n",
    "def InsertionSort(arr):\n",
    "    start_time = timeit.default_timer()\n",
    "    for i in range(1,len(arr)):\n",
    "        temp=arr[i]\n",
    "        j=i-1\n",
    "        while j>=0 and temp<arr[j]:\n",
    "            arr[j+1]=arr[j]\n",
    "            j-=1\n",
    "        arr[j+1]=temp\n",
    "        print(\"After %d iteration \"%i,arr)\n",
    "    print(\"EXECUTION TIME:\",timeit.default_timer()-start_time)\n",
    "    "
   ]
  },
  {
   "cell_type": "code",
   "execution_count": 52,
   "metadata": {
    "collapsed": true
   },
   "outputs": [],
   "source": [
    "arr=[0,1,7,5,3,8,0,7,9,80]"
   ]
  },
  {
   "cell_type": "code",
   "execution_count": 53,
   "metadata": {},
   "outputs": [
    {
     "name": "stdout",
     "output_type": "stream",
     "text": [
      "After 1 iteration  [0, 1, 7, 5, 3, 8, 0, 7, 9, 80]\n",
      "After 2 iteration  [0, 0, 7, 5, 3, 8, 1, 7, 9, 80]\n",
      "After 3 iteration  [0, 0, 1, 5, 3, 8, 7, 7, 9, 80]\n",
      "After 4 iteration  [0, 0, 1, 3, 5, 8, 7, 7, 9, 80]\n",
      "After 5 iteration  [0, 0, 1, 3, 5, 8, 7, 7, 9, 80]\n",
      "After 6 iteration  [0, 0, 1, 3, 5, 7, 8, 7, 9, 80]\n",
      "After 7 iteration  [0, 0, 1, 3, 5, 7, 7, 8, 9, 80]\n",
      "After 8 iteration  [0, 0, 1, 3, 5, 7, 7, 8, 9, 80]\n",
      "After 9 iteration  [0, 0, 1, 3, 5, 7, 7, 8, 9, 80]\n",
      "After 10 iteration  [0, 0, 1, 3, 5, 7, 7, 8, 9, 80]\n",
      "EXECUTION TIME: 0.004371538991108537\n"
     ]
    }
   ],
   "source": [
    "SelectionSort(arr);"
   ]
  },
  {
   "cell_type": "code",
   "execution_count": 54,
   "metadata": {},
   "outputs": [
    {
     "name": "stdout",
     "output_type": "stream",
     "text": [
      "After 1 iteration  [0, 0, 1, 3, 5, 7, 7, 8, 9, 80]\n",
      "After 2 iteration  [0, 0, 1, 3, 5, 7, 7, 8, 9, 80]\n",
      "After 3 iteration  [0, 0, 1, 3, 5, 7, 7, 8, 9, 80]\n",
      "After 4 iteration  [0, 0, 1, 3, 5, 7, 7, 8, 9, 80]\n",
      "After 5 iteration  [0, 0, 1, 3, 5, 7, 7, 8, 9, 80]\n",
      "After 6 iteration  [0, 0, 1, 3, 5, 7, 7, 8, 9, 80]\n",
      "After 7 iteration  [0, 0, 1, 3, 5, 7, 7, 8, 9, 80]\n",
      "After 8 iteration  [0, 0, 1, 3, 5, 7, 7, 8, 9, 80]\n",
      "After 9 iteration  [0, 0, 1, 3, 5, 7, 7, 8, 9, 80]\n",
      "EXECUTION TIME: 0.0028138189809396863\n"
     ]
    }
   ],
   "source": [
    "InsertionSort(arr)            "
   ]
  },
  {
   "cell_type": "code",
   "execution_count": null,
   "metadata": {
    "collapsed": true
   },
   "outputs": [],
   "source": []
  }
 ],
 "metadata": {
  "kernelspec": {
   "display_name": "Python 3",
   "language": "python",
   "name": "python3"
  },
  "language_info": {
   "codemirror_mode": {
    "name": "ipython",
    "version": 3
   },
   "file_extension": ".py",
   "mimetype": "text/x-python",
   "name": "python",
   "nbconvert_exporter": "python",
   "pygments_lexer": "ipython3",
   "version": "3.6.3"
  }
 },
 "nbformat": 4,
 "nbformat_minor": 2
}
